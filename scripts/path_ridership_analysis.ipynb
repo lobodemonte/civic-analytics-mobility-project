{
 "cells": [
  {
   "cell_type": "code",
   "execution_count": 1,
   "metadata": {},
   "outputs": [],
   "source": [
    "import pandas as pd\n",
    "import statsmodels.formula.api as smf\n",
    "from sklearn.metrics import r2_score\n",
    "from sklearn.model_selection import train_test_split\n",
    "from matplotlib.pylab import plt\n",
    "\n",
    "import numpy as np\n",
    "%matplotlib inline"
   ]
  },
  {
   "cell_type": "code",
   "execution_count": 9,
   "metadata": {},
   "outputs": [
    {
     "data": {
      "text/html": [
       "<div>\n",
       "<style scoped>\n",
       "    .dataframe tbody tr th:only-of-type {\n",
       "        vertical-align: middle;\n",
       "    }\n",
       "\n",
       "    .dataframe tbody tr th {\n",
       "        vertical-align: top;\n",
       "    }\n",
       "\n",
       "    .dataframe thead th {\n",
       "        text-align: right;\n",
       "    }\n",
       "</style>\n",
       "<table border=\"1\" class=\"dataframe\">\n",
       "  <thead>\n",
       "    <tr style=\"text-align: right;\">\n",
       "      <th></th>\n",
       "      <th>Station</th>\n",
       "      <th>Year</th>\n",
       "      <th>Month</th>\n",
       "      <th>Month Totals</th>\n",
       "      <th>Avg Weekday</th>\n",
       "      <th>Avg Saturday</th>\n",
       "      <th>Avg Sunday</th>\n",
       "      <th>Avg Holiday</th>\n",
       "    </tr>\n",
       "  </thead>\n",
       "  <tbody>\n",
       "    <tr>\n",
       "      <td>0</td>\n",
       "      <td>Journal Square</td>\n",
       "      <td>2019</td>\n",
       "      <td>January</td>\n",
       "      <td>626,190</td>\n",
       "      <td>25,066</td>\n",
       "      <td>11,442</td>\n",
       "      <td>8,337</td>\n",
       "      <td>10,349</td>\n",
       "    </tr>\n",
       "    <tr>\n",
       "      <td>1</td>\n",
       "      <td>Grove Street</td>\n",
       "      <td>2019</td>\n",
       "      <td>January</td>\n",
       "      <td>511,577</td>\n",
       "      <td>20,804</td>\n",
       "      <td>8,959</td>\n",
       "      <td>6,250</td>\n",
       "      <td>6,934</td>\n",
       "    </tr>\n",
       "    <tr>\n",
       "      <td>2</td>\n",
       "      <td>Exchange Place</td>\n",
       "      <td>2019</td>\n",
       "      <td>January</td>\n",
       "      <td>413,756</td>\n",
       "      <td>18,137</td>\n",
       "      <td>3,446</td>\n",
       "      <td>2,574</td>\n",
       "      <td>4,402</td>\n",
       "    </tr>\n",
       "    <tr>\n",
       "      <td>3</td>\n",
       "      <td>Pavonia/ Newport</td>\n",
       "      <td>2019</td>\n",
       "      <td>January</td>\n",
       "      <td>444,452</td>\n",
       "      <td>18,577</td>\n",
       "      <td>6,360</td>\n",
       "      <td>4,657</td>\n",
       "      <td>5,135</td>\n",
       "    </tr>\n",
       "    <tr>\n",
       "      <td>4</td>\n",
       "      <td>Journal Square</td>\n",
       "      <td>2019</td>\n",
       "      <td>February</td>\n",
       "      <td>595,158</td>\n",
       "      <td>26,090</td>\n",
       "      <td>12,386</td>\n",
       "      <td>8,972</td>\n",
       "      <td>14,013</td>\n",
       "    </tr>\n",
       "  </tbody>\n",
       "</table>\n",
       "</div>"
      ],
      "text/plain": [
       "            Station  Year     Month Month Totals Avg Weekday Avg Saturday  \\\n",
       "0    Journal Square  2019   January      626,190      25,066       11,442   \n",
       "1      Grove Street  2019   January      511,577      20,804        8,959   \n",
       "2    Exchange Place  2019   January      413,756      18,137        3,446   \n",
       "3  Pavonia/ Newport  2019   January      444,452      18,577        6,360   \n",
       "4    Journal Square  2019  February      595,158      26,090       12,386   \n",
       "\n",
       "  Avg Sunday Avg Holiday  \n",
       "0      8,337      10,349  \n",
       "1      6,250       6,934  \n",
       "2      2,574       4,402  \n",
       "3      4,657       5,135  \n",
       "4      8,972      14,013  "
      ]
     },
     "execution_count": 9,
     "metadata": {},
     "output_type": "execute_result"
    }
   ],
   "source": [
    "path_ridership = pd.read_csv(\"../data/path_ridership_data/path_ridership.csv\")\n",
    "path_ridership.head()"
   ]
  },
  {
   "cell_type": "code",
   "execution_count": 14,
   "metadata": {},
   "outputs": [
    {
     "data": {
      "image/png": "[encoded data removed]",
      "text/plain": [
       "<Figure size 432x288 with 1 Axes>"
      ]
     },
     "metadata": {
      "needs_background": "light"
     },
     "output_type": "display_data"
    }
   ],
   "source": [
    "sample = path_ridership[path_ridership['Station'] =='Grove Street']\n",
    "\n",
    "fig = plt.figure()\n",
    "ax = fig.add_subplot(111)\n",
    "ind=np.arange(9)\n",
    "width=0.4\n",
    "rects1 = ax.bar(ind, sample['Avg Weekday'], width, color='r')\n",
    "rects2 = ax.bar(ind+width, sample['Avg Saturday'], width, color='g')\n",
    "ax.set_xticklabels( sample['Month'] )\n",
    "ax.legend(('Avg Weekday','Avg Saturday'))\n",
    "plt.title('Avg PATH Ridership');"
   ]
  },
  {
   "cell_type": "code",
   "execution_count": null,
   "metadata": {},
   "outputs": [],
   "source": []
  }
 ],
 "metadata": {
  "kernelspec": {
   "display_name": "Python 3",
   "language": "python",
   "name": "python3"
  },
  "language_info": {
   "codemirror_mode": {
    "name": "ipython",
    "version": 3
   },
   "file_extension": ".py",
   "mimetype": "text/x-python",
   "name": "python",
   "nbconvert_exporter": "python",
   "pygments_lexer": "ipython3",
   "version": "3.7.4"
  }
 },
 "nbformat": 4,
 "nbformat_minor": 2
}
